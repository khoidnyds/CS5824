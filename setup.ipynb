{
 "cells": [
  {
   "cell_type": "code",
   "execution_count": 2,
   "metadata": {},
   "outputs": [],
   "source": [
    "from pyfaidx import Fasta\n",
    "from pathlib import Path\n",
    "import pandas as pd\n",
    "import subprocess"
   ]
  },
  {
   "cell_type": "code",
   "execution_count": null,
   "metadata": {},
   "outputs": [],
   "source": [
    "for i in range(1,4):\n",
    "    subprocess([\"wget\", f\"https://ftp.ncbi.nlm.nih.gov/refseq/release/viral/viral.{i}.1.genomic.fna.gz\"])\n",
    "    subprocess(['gunzip', '-d', f'viral.{i}.1.genomic.fna.gz'])\n",
    "    subprocess(['cat', '*.fna', '>', 'full_viral.fna'])\n",
    "    subprocess(['mkdir', 'data'])\n",
    "    subprocess(['mv', 'full_viral.fna', 'data'])"
   ]
  },
  {
   "cell_type": "code",
   "execution_count": 4,
   "metadata": {},
   "outputs": [],
   "source": [
    "accession = []\n",
    "description = []\n",
    "v1 = Fasta(\"raw_data/full_viral.fna\")\n",
    "for v in v1:\n",
    "    l =  v.long_name.split(\" \")\n",
    "    a = l[0]\n",
    "    l = l[:-2]\n",
    "    d = \" \".join(l)[:-1]\n",
    "    accession.append(a)\n",
    "    description.append(d)\n",
    "metadata = pd.DataFrame({\"Accession\":accession, \"Description\":description})\n",
    "metadata.to_csv(\"raw_data/annotation.txt\", index=False)\n"
   ]
  },
  {
   "cell_type": "code",
   "execution_count": null,
   "metadata": {},
   "outputs": [],
   "source": []
  }
 ],
 "metadata": {
  "interpreter": {
   "hash": "66c89095a811ca966fd2243858ea9447b6702a4a2375d4308d6a374386b37b0a"
  },
  "kernelspec": {
   "display_name": "Python 3.9.7 64-bit ('CS5824': conda)",
   "language": "python",
   "name": "python3"
  },
  "language_info": {
   "codemirror_mode": {
    "name": "ipython",
    "version": 3
   },
   "file_extension": ".py",
   "mimetype": "text/x-python",
   "name": "python",
   "nbconvert_exporter": "python",
   "pygments_lexer": "ipython3",
   "version": "3.9.7"
  },
  "orig_nbformat": 4
 },
 "nbformat": 4,
 "nbformat_minor": 2
}
